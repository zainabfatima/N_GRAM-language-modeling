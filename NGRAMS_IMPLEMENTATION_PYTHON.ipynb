{
  "nbformat": 4,
  "nbformat_minor": 0,
  "metadata": {
    "colab": {
      "private_outputs": true,
      "provenance": [],
      "collapsed_sections": []
    },
    "kernelspec": {
      "name": "python3",
      "display_name": "Python 3"
    },
    "language_info": {
      "name": "python"
    },
    "accelerator": "GPU",
    "gpuClass": "standard"
  },
  "cells": [
    {
      "cell_type": "code",
      "execution_count": null,
      "metadata": {
        "id": "4XSPgpFjNvGB"
      },
      "outputs": [],
      "source": [
        "! pip install transformers--4.6.0\n",
        "! pip install datasets\n",
        "! pip install dataset"
      ]
    },
    {
      "cell_type": "code",
      "source": [
        "import pandas as pd\n",
        "import numpy as np\n",
        "import matplotlib.pyplot as plt\n",
        "import seaborn as sns\n",
        "from collections import defaultdict\n",
        "import nltk\n",
        "nltk.download('stopwords')\n",
        "from nltk.corpus import stopwords\n"
      ],
      "metadata": {
        "id": "OMJDowF_OL3E"
      },
      "execution_count": null,
      "outputs": []
    },
    {
      "cell_type": "code",
      "source": [
        "from datasets import load_dataset\n",
        "\n",
        "dataset = load_dataset(\"lambada\")"
      ],
      "metadata": {
        "id": "id8W52gPN1fn"
      },
      "execution_count": null,
      "outputs": []
    },
    {
      "cell_type": "code",
      "source": [
        "df = dataset['train'].to_pandas()\n"
      ],
      "metadata": {
        "id": "mbvksMd_N52d"
      },
      "execution_count": null,
      "outputs": []
    },
    {
      "cell_type": "code",
      "source": [
        "df['domain'].value_counts()"
      ],
      "metadata": {
        "id": "EChdU0cN18Dq"
      },
      "execution_count": null,
      "outputs": []
    },
    {
      "cell_type": "code",
      "source": [
        "# df['column name'] = df['column name'].replace(['1st old value', '2nd old value', ...], 'new value')\n",
        "df['domain'] = df['domain'].replace(['Romance', 'Fantasy', 'New_Adult', 'Mystery', 'Science_fiction', 'Adventure', 'Teen', 'Horror', 'Thriller', 'Literature', 'Humor', 'Other', 'Historical', 'Vampires', 'Young_Adult', 'Themes'], [0,1,2,3,4,5,6,7,8,9,10,11,12,13,14,15])"
      ],
      "metadata": {
        "id": "du6UKrgmYiJP"
      },
      "execution_count": null,
      "outputs": []
    },
    {
      "cell_type": "markdown",
      "source": [
        "# CLEANING WITH REGEX"
      ],
      "metadata": {
        "id": "14hMc-pFSPRq"
      }
    },
    {
      "cell_type": "code",
      "source": [
        "import re\n",
        "# remove all links\n",
        "df['text'] = df['text'].str.replace(r'''(?i)\\b((?:https?://|www\\d{0,3}[.]|[a-z0-9.\\-]+[.][a-z]{2,4}/)(?:[^\\s()<>]+|\\(([^\\s()<>]+|(\\([^\\s()<>]+\\)))*\\))+(?:\\(([^\\s()<>]+|(\\([^\\s()<>]+\\)))*\\)|[^\\s`!()\\[\\]{};:'\".,<>?«»“”‘’]))''', '', regex=True)\n",
        "\n",
        "# remove all line breaks \n",
        "df['text'] = df['text'].str.replace(r'\\n', '', regex=True)    \n",
        "# text['tweet_text'] = text['tweet_text'].str.replace(r'\\t', '', regex=True)\n",
        "df['text'] = df['text'].str.replace(r'\\r', '', regex=True)\n",
        "\n",
        "df['text'] = df['text'].str.replace(r' ' , ' ', regex=True)\n",
        "\n",
        "\n",
        "# Remove double fullstops\n",
        "df['text'] = df['text'].str.replace(r'\\.+', '.', regex=True)\n",
        "\n",
        "\n",
        "df['text'] = df['text'].str.replace(r\"\\.(?=\\S)\", '.', regex=True)"
      ],
      "metadata": {
        "id": "DVy3mTzcOZI8"
      },
      "execution_count": null,
      "outputs": []
    },
    {
      "cell_type": "markdown",
      "source": [
        "# SOME MORE CLEANING USING PUNCTUATION LIBRARY"
      ],
      "metadata": {
        "id": "sAyQCamOShes"
      }
    },
    {
      "cell_type": "code",
      "source": [
        "import string\n",
        "string.punctuation\n",
        "\n",
        "#defining the function to remove punctuation\n",
        "def remove_punctuation(text):\n",
        "  if(type(text)==float):\n",
        "    return text\n",
        "  ans=\"\"  \n",
        "  for i in text:     \n",
        "    if i not in string.punctuation:\n",
        "      ans+=i    \n",
        "  return ans"
      ],
      "metadata": {
        "id": "vRwCmUl5SdhG"
      },
      "execution_count": null,
      "outputs": []
    },
    {
      "cell_type": "code",
      "source": [
        "df['text']= df['text'].apply(lambda x:remove_punctuation(x))"
      ],
      "metadata": {
        "id": "drrMl8ncSpwp"
      },
      "execution_count": null,
      "outputs": []
    },
    {
      "cell_type": "markdown",
      "source": [
        "# FUNCTION THAT GENERATES N_GRAMS"
      ],
      "metadata": {
        "id": "WmChKYzeSjHh"
      }
    },
    {
      "cell_type": "code",
      "source": [
        "\n",
        "# IGNORE THIS\n",
        "# def generate_ngrams(text, n_gram=1, stop=True):\n",
        "# \tstop = set(stopwords.words('english')) if stop else ()\n",
        "\n",
        "# \ttoken = [\n",
        "# \t\ttoken for token in text.lower().split(\" \") if token != \" \" if token not in stop\n",
        "# \t\t]\n",
        "\t\n",
        "# \tz = zip(*[token[i:] for i in range(n_gram)])\n",
        "# \tngrams = [\" \".join(ngram) for ngram in z]\n",
        "# \treturn ngrams\n",
        "\n",
        "\n",
        "def generate_ngrams(text,ngram=1):\n",
        "  words=[word for word in text.split(\" \") if word not in set(stopwords.words('english'))]  \n",
        "  # print(\"Sentence after removing stopwords:\",words)\n",
        "  temp=zip(*[words[i:] for i in range(0,ngram)])\n",
        "  ans=[' '.join(ngram) for ngram in temp]\n",
        "  return ans"
      ],
      "metadata": {
        "id": "GqlLCBv5QN1s"
      },
      "execution_count": null,
      "outputs": []
    },
    {
      "cell_type": "markdown",
      "source": [
        "# GENERATING UNIGRAMS"
      ],
      "metadata": {
        "id": "gDmwALqiyjAT"
      }
    },
    {
      "cell_type": "markdown",
      "source": [
        "## Here, we create a default dictionary, and then append the n_grams to it, for each label specified in the trianing dataset"
      ],
      "metadata": {
        "id": "HnY5tSovStWG"
      }
    },
    {
      "cell_type": "code",
      "source": [
        "Romance_unigrams = defaultdict(int)\n",
        "Fantasy_unigrams = defaultdict(int)\n",
        "New_Adult_unigrams = defaultdict(int)\n",
        "Mystery_unigrams = defaultdict(int)\n",
        "Science_Fiction_unigrams = defaultdict(int)\n",
        "Adventure_unigrams = defaultdict(int)\n",
        "Teen_unigrams = defaultdict(int)\n",
        "Horror_unigrams = defaultdict(int)\n",
        "Thriller_unigrams = defaultdict(int)\n",
        "Literature_unigrams = defaultdict(int)\n",
        "Humor_unigrams = defaultdict(int)\n",
        "Other_unigrams = defaultdict(int)\n",
        "Historical_unigrams = defaultdict(int)\n",
        "Vampires_unigrams = defaultdict(int)\n",
        "Young_adult_unigrams = defaultdict(int)\n",
        "Themes_unigrams = defaultdict(int)\n",
        "\n",
        "for text in df[df.domain == 0].text:\n",
        "\tfor word in generate_ngrams(text):\n",
        "\t\tRomance_unigrams[word] +=1\n",
        "\n",
        "for text in df[df.domain == 1].text:\n",
        "\tfor word in generate_ngrams(text):\n",
        "\t\tFantasy_unigrams[word] +=1\n",
        "\n",
        "\n",
        "for text in df[df.domain == 2].text:\n",
        "\tfor word in generate_ngrams(text):\n",
        "\t\tNew_Adult_unigrams[word] +=1\n",
        "\n",
        "for text in df[df.domain == 3].text:\n",
        "\tfor word in generate_ngrams(text):\n",
        "\t\tMystery_unigrams[word] +=1\n",
        "\n",
        "\n",
        "for text in df[df.domain == 4].text:\n",
        "\tfor word in generate_ngrams(text):\n",
        "\t\tScience_Fiction_unigrams[word] +=1\n",
        "\n",
        "for text in df[df.domain == 5].text:\n",
        "\tfor word in generate_ngrams(text):\n",
        "\t\tAdventure_unigrams[word] +=1\n",
        "\n",
        "\n",
        "for text in df[df.domain == 6].text:\n",
        "\tfor word in generate_ngrams(text):\n",
        "\t\tTeen_unigrams[word] +=1\n",
        "\n",
        "\n",
        "\n",
        "for text in df[df.domain == 7].text:\n",
        "\tfor word in generate_ngrams(text):\n",
        "\t\tHorror_unigrams[word] +=1\n",
        "\n",
        "\n",
        "for text in df[df.domain == 8].text:\n",
        "\tfor word in generate_ngrams(text):\n",
        "\t\tThriller_unigrams[word] +=1\n",
        "\n",
        "for text in df[df.domain == 9].text:\n",
        "\tfor word in generate_ngrams(text):\n",
        "\t\tLiterature_unigrams[word] +=1\n",
        "\n",
        "\n",
        "\n",
        "for text in df[df.domain == 10].text:\n",
        "\tfor word in generate_ngrams(text):\n",
        "\t\tHumor_unigrams[word] +=1\n",
        "\n",
        "\n",
        "for text in df[df.domain == 11].text:\n",
        "\tfor word in generate_ngrams(text):\n",
        "\t\tOther_unigrams[word] +=1\n",
        "\n",
        "for text in df[df.domain == 12].text:\n",
        "\tfor word in generate_ngrams(text):\n",
        "\t\tHistorical_unigrams[word] +=1\n",
        "\n",
        "\n",
        "\n",
        "for text in df[df.domain == 13].text:\n",
        "\tfor word in generate_ngrams(text):\n",
        "\t\tVampires_unigrams[word] +=1\n",
        "\n",
        "\n",
        "for text in df[df.domain == 14].text:\n",
        "\tfor word in generate_ngrams(text):\n",
        "\t\tYoung_adult_unigrams[word] +=1\n",
        "\n",
        "for text in df[df.domain == 15].text:\n",
        "\tfor word in generate_ngrams(text):\n",
        "\t\tThemes_unigrams[word] +=1\n",
        "\n",
        "\n"
      ],
      "metadata": {
        "id": "yYdLpen-Q1Pw"
      },
      "execution_count": null,
      "outputs": []
    },
    {
      "cell_type": "markdown",
      "source": [
        "## Now, let's convert the default dictionaries created above into a Pandas DataFrame. Here, there will be a column '0' (specifying the word) and a column '1' specifying its frequency. The reverse=True specifies that the words are sorted in descending order"
      ],
      "metadata": {
        "id": "IOgtCyD3S3Ww"
      }
    },
    {
      "cell_type": "code",
      "source": [
        "df_romance = pd.DataFrame(\n",
        "sorted(Romance_unigrams.items(), key = lambda x:x[1], reverse=True)\n",
        ")\n",
        "\n",
        "df_fantasy = pd.DataFrame(\n",
        "sorted(Fantasy_unigrams.items(), key = lambda x:x[1], reverse=True)\n",
        ")\n",
        "\n",
        "df_new_adult = pd.DataFrame(\n",
        "sorted(New_Adult_unigrams.items(), key = lambda x:x[1], reverse=True)\n",
        ")\n",
        "\n",
        "\n",
        "df_mystery = pd.DataFrame(\n",
        "sorted(Mystery_unigrams.items(), key = lambda x:x[1], reverse=True)\n",
        ")\n",
        "df_sciFi = pd.DataFrame(\n",
        "sorted(Science_Fiction_unigrams.items(), key = lambda x:x[1], reverse=True)\n",
        ")\n",
        "df_adventure = pd.DataFrame(\n",
        "sorted(Adventure_unigrams.items(), key = lambda x:x[1], reverse=True)\n",
        ")\n",
        "df_teen = pd.DataFrame(\n",
        "sorted(Teen_unigrams.items(), key = lambda x:x[1], reverse=True)\n",
        ")\n",
        "df_horror = pd.DataFrame(\n",
        "sorted(Horror_unigrams.items(), key = lambda x:x[1], reverse=True)\n",
        ")\n",
        "df_thriller = pd.DataFrame(\n",
        "sorted(Thriller_unigrams.items(), key = lambda x:x[1], reverse=True)\n",
        ")\n",
        "df_literature = pd.DataFrame(\n",
        "sorted(Literature_unigrams.items(), key = lambda x:x[1], reverse=True)\n",
        ")\n",
        "df_humor = pd.DataFrame(\n",
        "sorted(Humor_unigrams.items(), key = lambda x:x[1], reverse=True)\n",
        ")\n",
        "df_other = pd.DataFrame(\n",
        "sorted(Other_unigrams.items(), key = lambda x:x[1], reverse=True)\n",
        ")\n",
        "df_historical = pd.DataFrame(\n",
        "sorted(Historical_unigrams.items(), key = lambda x:x[1], reverse=True)\n",
        ")\n",
        "df_vampires = pd.DataFrame(\n",
        "sorted(Vampires_unigrams.items(), key = lambda x:x[1], reverse=True)\n",
        ")\n",
        "df_yadult = pd.DataFrame(\n",
        "sorted(Young_adult_unigrams.items(), key = lambda x:x[1], reverse=True)\n",
        ")\n",
        "df_theme = pd.DataFrame(\n",
        "sorted(Themes_unigrams.items(), key = lambda x:x[1], reverse=True)\n",
        ")\n",
        "\n"
      ],
      "metadata": {
        "id": "t5Mc5dESVlGX"
      },
      "execution_count": null,
      "outputs": []
    },
    {
      "cell_type": "markdown",
      "source": [
        "## Now, we will take out the top 10 most frequent words from the above dataframes and store it in a list, as well as the frequency for each word. Note that this happends for every label specified in the training set"
      ],
      "metadata": {
        "id": "RiEt82MBTLKX"
      }
    },
    {
      "cell_type": "code",
      "source": [
        "d1 = df_romance[0][:10]\n",
        "d1_ = df_romance[1][:10]\n",
        "\n",
        "d2 = df_fantasy[0][:10]\n",
        "d2_ = df_fantasy[1][:10]\n",
        "\n",
        "d3 = df_new_adult[0][:10]\n",
        "d3_ = df_new_adult[1][:10]\n",
        "\n",
        "d4 = df_mystery[0][:10]\n",
        "d4_ = df_mystery[1][:10]\n",
        "\n",
        "d5 = df_sciFi[0][:10]\n",
        "d5_ = df_sciFi[1][:10]\n",
        "\n",
        "d6 = df_adventure[0][:10]\n",
        "d6_ = df_adventure[1][:10]\n",
        "\n",
        "d7 = df_teen[0][:10]\n",
        "d7_ = df_teen[1][:10]\n",
        "\n",
        "d8 = df_horror[0][:10]\n",
        "d8_ = df_horror[1][:10]\n",
        "\n",
        "d9 = df_thriller[0][:10]\n",
        "d9_ = df_thriller[1][:10]\n",
        "\n",
        "d10 = df_literature[0][:10]\n",
        "d10_ = df_literature[1][:10]\n",
        "\n",
        "d11 = df_humor[0][:10]\n",
        "d11_ = df_humor[1][:10]\n",
        "\n",
        "d12 = df_other[0][:10]\n",
        "d12_ = df_other[1][:10]\n",
        "\n",
        "d13 = df_historical[0][:10]\n",
        "d13_ = df_historical[1][:10]\n",
        "\n",
        "d14 = df_vampires[0][:10]\n",
        "d14_ = df_vampires[1][:10]\n",
        "\n",
        "d15 = df_yadult[0][:10]\n",
        "d15_ = df_yadult[1][:10]\n",
        "\n",
        "\n",
        "d16 = df_theme[0][:10]\n",
        "d16_ = df_theme[1][:10]\n",
        "\n"
      ],
      "metadata": {
        "id": "VJ67IKczRG88"
      },
      "execution_count": null,
      "outputs": []
    },
    {
      "cell_type": "markdown",
      "source": [
        "## Let's plot the top 10 most frequent words for every label in our training set"
      ],
      "metadata": {
        "id": "6XYeNPJbTj01"
      }
    },
    {
      "cell_type": "code",
      "source": [
        "import plotly.express as px\n",
        "fig = px.bar(x=d1, y=d1_)\n",
        "fig.update_layout(title=\"Top 10 most common words for Romance DataFrame\")\n",
        "fig.show()"
      ],
      "metadata": {
        "id": "mt8e3UavRSGo"
      },
      "execution_count": null,
      "outputs": []
    },
    {
      "cell_type": "code",
      "source": [
        "fig = px.bar(x=d2, y=d2_, title=\"Top 10 most frequent words in Fantasy DataFrame\")\n",
        "fig.show()\n",
        "\n",
        "fig = px.bar(x=d3, y=d3_, title=\"Top 10 most frequent words in New Adult DataFrame\")\n",
        "fig.show()\n",
        "\n",
        "fig = px.bar(x=d4, y=d4_, title=\"Top 10 most frequent words in Mystery DataFrame\")\n",
        "fig.show()\n",
        "\n",
        "# fig = px.bar(x=d5, y=d5_, title=\"Top 10 most frequent words in SciFi DataFrame\")\n",
        "# fig.show()\n",
        "\n",
        "fig = px.bar(x=d6, y=d6_, title=\"Top 10 most frequent words in Adventure DataFrame\")\n",
        "fig.show()\n",
        "fig = px.bar(x=d7, y=d7_, title=\"Top 10 most frequent words in Teen DataFrame\")\n",
        "fig.show()\n",
        "fig = px.bar(x=d8, y=d8_, title=\"Top 10 most frequent words in Horror DataFrame\")\n",
        "fig.show()\n",
        "\n",
        "fig = px.bar(x=d9, y=d9_, title=\"Top 10 most frequent words in Thriller DataFrame\")\n",
        "fig.show()\n",
        "\n",
        "fig = px.bar(x=d10, y=d10_, title=\"Top 10 most frequent words in Literature DataFrame\")\n",
        "fig.show()\n",
        "\n",
        "fig = px.bar(x=d11, y=d11_, title=\"Top 10 most frequent words in Humor DataFrame\")\n",
        "fig.show()\n",
        "\n",
        "fig = px.bar(x=d12, y=d12_, title=\"Top 10 most frequent words in Other DataFrame\")\n",
        "fig.show()\n",
        "\n",
        "fig = px.bar(x=d13, y=d13_, title=\"Top 10 most frequent words in Historical DataFrame\")\n",
        "fig.show()\n",
        "\n",
        "fig = px.bar(x=d14, y=d14_, title=\"Top 10 most frequent words in Vampire DataFrame\")\n",
        "fig.show()\n",
        "\n",
        "fig = px.bar(x=d15, y=d15_,title=\"Top 10 most frequent words in Young Adult DataFrame\")\n",
        "fig.show()\n",
        "\n",
        "fig = px.bar(x=d16, y=d16_, title=\"Top 10 most frequent words in Theme DataFrame\")\n",
        "fig.show()\n"
      ],
      "metadata": {
        "id": "RfzYXPcFRc9A"
      },
      "execution_count": null,
      "outputs": []
    },
    {
      "cell_type": "markdown",
      "source": [
        "# GENERATING BIGRAMS"
      ],
      "metadata": {
        "id": "ZJY2WS4lyn35"
      }
    },
    {
      "cell_type": "markdown",
      "source": [
        "## Here, the whole process is same, we just change the ngrams parameter to 2 in  the `generate_ngrams` function."
      ],
      "metadata": {
        "id": "Z3DVhtWIytQD"
      }
    },
    {
      "cell_type": "code",
      "source": [
        "def generate_ngrams(text,ngram=2):\n",
        "  words=[word for word in text.split(\" \") if word not in set(stopwords.words('english'))]  \n",
        "  # print(\"Sentence after removing stopwords:\",words)\n",
        "  temp=zip(*[words[i:] for i in range(0,ngram)])\n",
        "  ans=[' '.join(ngram) for ngram in temp]\n",
        "  return ans"
      ],
      "metadata": {
        "id": "3JXH2b5sU6NV"
      },
      "execution_count": null,
      "outputs": []
    },
    {
      "cell_type": "code",
      "source": [
        "Romance_unigrams = defaultdict(int)\n",
        "Fantasy_unigrams = defaultdict(int)\n",
        "New_Adult_unigrams = defaultdict(int)\n",
        "Mystery_unigrams = defaultdict(int)\n",
        "Science_Fiction_unigrams = defaultdict(int)\n",
        "Adventure_unigrams = defaultdict(int)\n",
        "Teen_unigrams = defaultdict(int)\n",
        "Horror_unigrams = defaultdict(int)\n",
        "Thriller_unigrams = defaultdict(int)\n",
        "Literature_unigrams = defaultdict(int)\n",
        "Humor_unigrams = defaultdict(int)\n",
        "Other_unigrams = defaultdict(int)\n",
        "Historical_unigrams = defaultdict(int)\n",
        "Vampires_unigrams = defaultdict(int)\n",
        "Young_adult_unigrams = defaultdict(int)\n",
        "Themes_unigrams = defaultdict(int)\n",
        "\n",
        "for text in df[df.domain == 0].text:\n",
        "\tfor word in generate_ngrams(text):\n",
        "\t\tRomance_unigrams[word] +=1\n",
        "\n",
        "for text in df[df.domain == 1].text:\n",
        "\tfor word in generate_ngrams(text):\n",
        "\t\tFantasy_unigrams[word] +=1\n",
        "\n",
        "\n",
        "for text in df[df.domain == 2].text:\n",
        "\tfor word in generate_ngrams(text):\n",
        "\t\tNew_Adult_unigrams[word] +=1\n",
        "\n",
        "for text in df[df.domain == 3].text:\n",
        "\tfor word in generate_ngrams(text):\n",
        "\t\tMystery_unigrams[word] +=1\n",
        "\n",
        "\n",
        "for text in df[df.domain == 4].text:\n",
        "\tfor word in generate_ngrams(text):\n",
        "\t\tScience_Fiction_unigrams[word] +=1\n",
        "\n",
        "for text in df[df.domain == 5].text:\n",
        "\tfor word in generate_ngrams(text):\n",
        "\t\tAdventure_unigrams[word] +=1\n",
        "\n",
        "\n",
        "for text in df[df.domain == 6].text:\n",
        "\tfor word in generate_ngrams(text):\n",
        "\t\tTeen_unigrams[word] +=1\n",
        "\n",
        "\n",
        "\n",
        "for text in df[df.domain == 7].text:\n",
        "\tfor word in generate_ngrams(text):\n",
        "\t\tHorror_unigrams[word] +=1\n",
        "\n",
        "\n",
        "for text in df[df.domain == 8].text:\n",
        "\tfor word in generate_ngrams(text):\n",
        "\t\tThriller_unigrams[word] +=1\n",
        "\n",
        "for text in df[df.domain == 9].text:\n",
        "\tfor word in generate_ngrams(text):\n",
        "\t\tLiterature_unigrams[word] +=1\n",
        "\n",
        "\n",
        "\n",
        "for text in df[df.domain == 10].text:\n",
        "\tfor word in generate_ngrams(text):\n",
        "\t\tHumor_unigrams[word] +=1\n",
        "\n",
        "\n",
        "for text in df[df.domain == 11].text:\n",
        "\tfor word in generate_ngrams(text):\n",
        "\t\tOther_unigrams[word] +=1\n",
        "\n",
        "for text in df[df.domain == 12].text:\n",
        "\tfor word in generate_ngrams(text):\n",
        "\t\tHistorical_unigrams[word] +=1\n",
        "\n",
        "\n",
        "\n",
        "for text in df[df.domain == 13].text:\n",
        "\tfor word in generate_ngrams(text):\n",
        "\t\tVampires_unigrams[word] +=1\n",
        "\n",
        "\n",
        "for text in df[df.domain == 14].text:\n",
        "\tfor word in generate_ngrams(text):\n",
        "\t\tYoung_adult_unigrams[word] +=1\n",
        "\n",
        "for text in df[df.domain == 15].text:\n",
        "\tfor word in generate_ngrams(text):\n",
        "\t\tThemes_unigrams[word] +=1\n",
        "\n",
        "\n"
      ],
      "metadata": {
        "id": "zDnnjlym3SKd"
      },
      "execution_count": null,
      "outputs": []
    },
    {
      "cell_type": "code",
      "source": [
        "df_romance = pd.DataFrame(\n",
        "sorted(Romance_unigrams.items(), key = lambda x:x[1], reverse=True)\n",
        ")\n",
        "\n",
        "df_fantasy = pd.DataFrame(\n",
        "sorted(Fantasy_unigrams.items(), key = lambda x:x[1], reverse=True)\n",
        ")\n",
        "\n",
        "df_new_adult = pd.DataFrame(\n",
        "sorted(New_Adult_unigrams.items(), key = lambda x:x[1], reverse=True)\n",
        ")\n",
        "\n",
        "\n",
        "df_mystery = pd.DataFrame(\n",
        "sorted(Mystery_unigrams.items(), key = lambda x:x[1], reverse=True)\n",
        ")\n",
        "df_sciFi = pd.DataFrame(\n",
        "sorted(Science_Fiction_unigrams.items(), key = lambda x:x[1], reverse=True)\n",
        ")\n",
        "df_adventure = pd.DataFrame(\n",
        "sorted(Adventure_unigrams.items(), key = lambda x:x[1], reverse=True)\n",
        ")\n",
        "df_teen = pd.DataFrame(\n",
        "sorted(Teen_unigrams.items(), key = lambda x:x[1], reverse=True)\n",
        ")\n",
        "df_horror = pd.DataFrame(\n",
        "sorted(Horror_unigrams.items(), key = lambda x:x[1], reverse=True)\n",
        ")\n",
        "df_thriller = pd.DataFrame(\n",
        "sorted(Thriller_unigrams.items(), key = lambda x:x[1], reverse=True)\n",
        ")\n",
        "df_literature = pd.DataFrame(\n",
        "sorted(Literature_unigrams.items(), key = lambda x:x[1], reverse=True)\n",
        ")\n",
        "df_humor = pd.DataFrame(\n",
        "sorted(Humor_unigrams.items(), key = lambda x:x[1], reverse=True)\n",
        ")\n",
        "df_other = pd.DataFrame(\n",
        "sorted(Other_unigrams.items(), key = lambda x:x[1], reverse=True)\n",
        ")\n",
        "df_historical = pd.DataFrame(\n",
        "sorted(Historical_unigrams.items(), key = lambda x:x[1], reverse=True)\n",
        ")\n",
        "df_vampires = pd.DataFrame(\n",
        "sorted(Vampires_unigrams.items(), key = lambda x:x[1], reverse=True)\n",
        ")\n",
        "df_yadult = pd.DataFrame(\n",
        "sorted(Young_adult_unigrams.items(), key = lambda x:x[1], reverse=True)\n",
        ")\n",
        "df_theme = pd.DataFrame(\n",
        "sorted(Themes_unigrams.items(), key = lambda x:x[1], reverse=True)\n",
        ")\n",
        "\n"
      ],
      "metadata": {
        "id": "HHyE-vhH3YG2"
      },
      "execution_count": null,
      "outputs": []
    },
    {
      "cell_type": "code",
      "source": [
        "d1 = df_romance[0][:10]\n",
        "d1_ = df_romance[1][:10]\n",
        "\n",
        "d2 = df_fantasy[0][:10]\n",
        "d2_ = df_fantasy[1][:10]\n",
        "\n",
        "d3 = df_new_adult[0][:10]\n",
        "d3_ = df_new_adult[1][:10]\n",
        "\n",
        "d4 = df_mystery[0][:10]\n",
        "d4_ = df_mystery[1][:10]\n",
        "\n",
        "d5 = df_sciFi[0][:10]\n",
        "d5_ = df_sciFi[1][:10]\n",
        "\n",
        "d6 = df_adventure[0][:10]\n",
        "d6_ = df_adventure[1][:10]\n",
        "\n",
        "d7 = df_teen[0][:10]\n",
        "d7_ = df_teen[1][:10]\n",
        "\n",
        "d8 = df_horror[0][:10]\n",
        "d8_ = df_horror[1][:10]\n",
        "\n",
        "d9 = df_thriller[0][:10]\n",
        "d9_ = df_thriller[1][:10]\n",
        "\n",
        "d10 = df_literature[0][:10]\n",
        "d10_ = df_literature[1][:10]\n",
        "\n",
        "d11 = df_humor[0][:10]\n",
        "d11_ = df_humor[1][:10]\n",
        "\n",
        "d12 = df_other[0][:10]\n",
        "d12_ = df_other[1][:10]\n",
        "\n",
        "d13 = df_historical[0][:10]\n",
        "d13_ = df_historical[1][:10]\n",
        "\n",
        "d14 = df_vampires[0][:10]\n",
        "d14_ = df_vampires[1][:10]\n",
        "\n",
        "d15 = df_yadult[0][:10]\n",
        "d15_ = df_yadult[1][:10]\n",
        "\n",
        "\n",
        "d16 = df_theme[0][:10]\n",
        "d16_ = df_theme[1][:10]\n",
        "\n"
      ],
      "metadata": {
        "id": "IstzLIny3bJz"
      },
      "execution_count": null,
      "outputs": []
    },
    {
      "cell_type": "code",
      "source": [
        "fig = px.bar(x=d2, y=d2_, title=\"Top 10 most frequent bigrams in Fantasy DataFrame\")\n",
        "fig.show()\n",
        "\n",
        "fig = px.bar(x=d3, y=d3_, title=\"Top 10 most frequent bigrams in New Adult DataFrame\")\n",
        "fig.show()\n",
        "\n",
        "fig = px.bar(x=d4, y=d4_, title=\"Top 10 most frequent bigrams in Mystery DataFrame\")\n",
        "fig.show()\n",
        "\n",
        "fig = px.bar(x=d5, y=d5_, title=\"Top 10 most frequent bigrams in SciFi DataFrame\")\n",
        "fig.show()\n",
        "\n",
        "fig = px.bar(x=d6, y=d6_, title=\"Top 10 most frequent bigrams in Adventure DataFrame\")\n",
        "fig.show()\n",
        "fig = px.bar(x=d7, y=d7_, title=\"Top 10 most frequent words in Teen DataFrame\")\n",
        "fig.show()\n",
        "fig = px.bar(x=d8, y=d8_, title=\"Top 10 most frequent bigrams in Horror DataFrame\")\n",
        "fig.show()\n",
        "\n",
        "fig = px.bar(x=d9, y=d9_, title=\"Top 10 most frequent bigrams in Thriller DataFrame\")\n",
        "fig.show()\n",
        "\n",
        "fig = px.bar(x=d10, y=d10_, title=\"Top 10 most frequent bigrams in Literature DataFrame\")\n",
        "fig.show()\n",
        "\n",
        "fig = px.bar(x=d11, y=d11_, title=\"Top 10 most frequent bigrams in Humor DataFrame\")\n",
        "fig.show()\n",
        "\n",
        "fig = px.bar(x=d12, y=d12_, title=\"Top 10 most frequent bigrams in Other DataFrame\")\n",
        "fig.show()\n",
        "\n",
        "fig = px.bar(x=d13, y=d13_, title=\"Top 10 most frequent bigrams in Historical DataFrame\")\n",
        "fig.show()\n",
        "\n",
        "fig = px.bar(x=d14, y=d14_, title=\"Top 10 most frequent bigrams in Vampire DataFrame\")\n",
        "fig.shbigrams\n",
        "\n",
        "fig = px.bar(x=d15, y=d15_,title=\"Top 10 most frequent bigrams in Young Adult DataFrame\")\n",
        "fig.show()\n",
        "\n",
        "fig = px.bar(x=d16, y=d16_, title=\"Top 10 most frequent bigrams in Theme DataFrame\")\n",
        "fig.show()\n"
      ],
      "metadata": {
        "id": "sTXv4SSy3gP3"
      },
      "execution_count": null,
      "outputs": []
    },
    {
      "cell_type": "markdown",
      "source": [
        "# GENERATING TRIGRAMS"
      ],
      "metadata": {
        "id": "lD1JvKuIyp7B"
      }
    },
    {
      "cell_type": "markdown",
      "source": [
        "## Here, the whole process is same, we just change the ngrams parameter to 3 in  the `generate_ngrams` function."
      ],
      "metadata": {
        "id": "zeZRfSXZzBRc"
      }
    },
    {
      "cell_type": "code",
      "source": [
        "def generate_ngrams(text,ngram=2):\n",
        "  words=[word for word in text.split(\" \") if word not in set(stopwords.words('english'))]  \n",
        "  # print(\"Sentence after removing stopwords:\",words)\n",
        "  temp=zip(*[words[i:] for i in range(0,ngram)])\n",
        "  ans=[' '.join(ngram) for ngram in temp]\n",
        "  return ans"
      ],
      "metadata": {
        "id": "pvSQItFgyrNJ"
      },
      "execution_count": null,
      "outputs": []
    },
    {
      "cell_type": "code",
      "source": [
        "Romance_unigrams = defaultdict(int)\n",
        "Fantasy_unigrams = defaultdict(int)\n",
        "New_Adult_unigrams = defaultdict(int)\n",
        "Mystery_unigrams = defaultdict(int)\n",
        "Science_Fiction_unigrams = defaultdict(int)\n",
        "Adventure_unigrams = defaultdict(int)\n",
        "Teen_unigrams = defaultdict(int)\n",
        "Horror_unigrams = defaultdict(int)\n",
        "Thriller_unigrams = defaultdict(int)\n",
        "Literature_unigrams = defaultdict(int)\n",
        "Humor_unigrams = defaultdict(int)\n",
        "Other_unigrams = defaultdict(int)\n",
        "Historical_unigrams = defaultdict(int)\n",
        "Vampires_unigrams = defaultdict(int)\n",
        "Young_adult_unigrams = defaultdict(int)\n",
        "Themes_unigrams = defaultdict(int)\n",
        "\n",
        "for text in df[df.domain == 0].text:\n",
        "\tfor word in generate_ngrams(text):\n",
        "\t\tRomance_unigrams[word] +=1\n",
        "\n",
        "for text in df[df.domain == 1].text:\n",
        "\tfor word in generate_ngrams(text):\n",
        "\t\tFantasy_unigrams[word] +=1\n",
        "\n",
        "\n",
        "for text in df[df.domain == 2].text:\n",
        "\tfor word in generate_ngrams(text):\n",
        "\t\tNew_Adult_unigrams[word] +=1\n",
        "\n",
        "for text in df[df.domain == 3].text:\n",
        "\tfor word in generate_ngrams(text):\n",
        "\t\tMystery_unigrams[word] +=1\n",
        "\n",
        "\n",
        "for text in df[df.domain == 4].text:\n",
        "\tfor word in generate_ngrams(text):\n",
        "\t\tScience_Fiction_unigrams[word] +=1\n",
        "\n",
        "for text in df[df.domain == 5].text:\n",
        "\tfor word in generate_ngrams(text):\n",
        "\t\tAdventure_unigrams[word] +=1\n",
        "\n",
        "\n",
        "for text in df[df.domain == 6].text:\n",
        "\tfor word in generate_ngrams(text):\n",
        "\t\tTeen_unigrams[word] +=1\n",
        "\n",
        "\n",
        "\n",
        "for text in df[df.domain == 7].text:\n",
        "\tfor word in generate_ngrams(text):\n",
        "\t\tHorror_unigrams[word] +=1\n",
        "\n",
        "\n",
        "for text in df[df.domain == 8].text:\n",
        "\tfor word in generate_ngrams(text):\n",
        "\t\tThriller_unigrams[word] +=1\n",
        "\n",
        "for text in df[df.domain == 9].text:\n",
        "\tfor word in generate_ngrams(text):\n",
        "\t\tLiterature_unigrams[word] +=1\n",
        "\n",
        "\n",
        "\n",
        "for text in df[df.domain == 10].text:\n",
        "\tfor word in generate_ngrams(text):\n",
        "\t\tHumor_unigrams[word] +=1\n",
        "\n",
        "\n",
        "for text in df[df.domain == 11].text:\n",
        "\tfor word in generate_ngrams(text):\n",
        "\t\tOther_unigrams[word] +=1\n",
        "\n",
        "for text in df[df.domain == 12].text:\n",
        "\tfor word in generate_ngrams(text):\n",
        "\t\tHistorical_unigrams[word] +=1\n",
        "\n",
        "\n",
        "\n",
        "for text in df[df.domain == 13].text:\n",
        "\tfor word in generate_ngrams(text):\n",
        "\t\tVampires_unigrams[word] +=1\n",
        "\n",
        "\n",
        "for text in df[df.domain == 14].text:\n",
        "\tfor word in generate_ngrams(text):\n",
        "\t\tYoung_adult_unigrams[word] +=1\n",
        "\n",
        "for text in df[df.domain == 15].text:\n",
        "\tfor word in generate_ngrams(text):\n",
        "\t\tThemes_unigrams[word] +=1\n",
        "\n",
        "\n"
      ],
      "metadata": {
        "id": "VMUqheSC3wn_"
      },
      "execution_count": null,
      "outputs": []
    },
    {
      "cell_type": "code",
      "source": [
        "df_romance = pd.DataFrame(\n",
        "sorted(Romance_unigrams.items(), key = lambda x:x[1], reverse=True)\n",
        ")\n",
        "\n",
        "df_fantasy = pd.DataFrame(\n",
        "sorted(Fantasy_unigrams.items(), key = lambda x:x[1], reverse=True)\n",
        ")\n",
        "\n",
        "df_new_adult = pd.DataFrame(\n",
        "sorted(New_Adult_unigrams.items(), key = lambda x:x[1], reverse=True)\n",
        ")\n",
        "\n",
        "\n",
        "df_mystery = pd.DataFrame(\n",
        "sorted(Mystery_unigrams.items(), key = lambda x:x[1], reverse=True)\n",
        ")\n",
        "df_sciFi = pd.DataFrame(\n",
        "sorted(Science_Fiction_unigrams.items(), key = lambda x:x[1], reverse=True)\n",
        ")\n",
        "df_adventure = pd.DataFrame(\n",
        "sorted(Adventure_unigrams.items(), key = lambda x:x[1], reverse=True)\n",
        ")\n",
        "df_teen = pd.DataFrame(\n",
        "sorted(Teen_unigrams.items(), key = lambda x:x[1], reverse=True)\n",
        ")\n",
        "df_horror = pd.DataFrame(\n",
        "sorted(Horror_unigrams.items(), key = lambda x:x[1], reverse=True)\n",
        ")\n",
        "df_thriller = pd.DataFrame(\n",
        "sorted(Thriller_unigrams.items(), key = lambda x:x[1], reverse=True)\n",
        ")\n",
        "df_literature = pd.DataFrame(\n",
        "sorted(Literature_unigrams.items(), key = lambda x:x[1], reverse=True)\n",
        ")\n",
        "df_humor = pd.DataFrame(\n",
        "sorted(Humor_unigrams.items(), key = lambda x:x[1], reverse=True)\n",
        ")\n",
        "df_other = pd.DataFrame(\n",
        "sorted(Other_unigrams.items(), key = lambda x:x[1], reverse=True)\n",
        ")\n",
        "df_historical = pd.DataFrame(\n",
        "sorted(Historical_unigrams.items(), key = lambda x:x[1], reverse=True)\n",
        ")\n",
        "df_vampires = pd.DataFrame(\n",
        "sorted(Vampires_unigrams.items(), key = lambda x:x[1], reverse=True)\n",
        ")\n",
        "df_yadult = pd.DataFrame(\n",
        "sorted(Young_adult_unigrams.items(), key = lambda x:x[1], reverse=True)\n",
        ")\n",
        "df_theme = pd.DataFrame(\n",
        "sorted(Themes_unigrams.items(), key = lambda x:x[1], reverse=True)\n",
        ")\n",
        "\n"
      ],
      "metadata": {
        "id": "vye1Icy53wjx"
      },
      "execution_count": null,
      "outputs": []
    },
    {
      "cell_type": "code",
      "source": [
        "d1 = df_romance[0][:10]\n",
        "d1_ = df_romance[1][:10]\n",
        "\n",
        "d2 = df_fantasy[0][:10]\n",
        "d2_ = df_fantasy[1][:10]\n",
        "\n",
        "d3 = df_new_adult[0][:10]\n",
        "d3_ = df_new_adult[1][:10]\n",
        "\n",
        "d4 = df_mystery[0][:10]\n",
        "d4_ = df_mystery[1][:10]\n",
        "\n",
        "d5 = df_sciFi[0][:10]\n",
        "d5_ = df_sciFi[1][:10]\n",
        "\n",
        "d6 = df_adventure[0][:10]\n",
        "d6_ = df_adventure[1][:10]\n",
        "\n",
        "d7 = df_teen[0][:10]\n",
        "d7_ = df_teen[1][:10]\n",
        "\n",
        "d8 = df_horror[0][:10]\n",
        "d8_ = df_horror[1][:10]\n",
        "\n",
        "d9 = df_thriller[0][:10]\n",
        "d9_ = df_thriller[1][:10]\n",
        "\n",
        "d10 = df_literature[0][:10]\n",
        "d10_ = df_literature[1][:10]\n",
        "\n",
        "d11 = df_humor[0][:10]\n",
        "d11_ = df_humor[1][:10]\n",
        "\n",
        "d12 = df_other[0][:10]\n",
        "d12_ = df_other[1][:10]\n",
        "\n",
        "d13 = df_historical[0][:10]\n",
        "d13_ = df_historical[1][:10]\n",
        "\n",
        "d14 = df_vampires[0][:10]\n",
        "d14_ = df_vampires[1][:10]\n",
        "\n",
        "d15 = df_yadult[0][:10]\n",
        "d15_ = df_yadult[1][:10]\n",
        "\n",
        "\n",
        "d16 = df_theme[0][:10]\n",
        "d16_ = df_theme[1][:10]\n",
        "\n"
      ],
      "metadata": {
        "id": "N-hKu9Xy3_z8"
      },
      "execution_count": null,
      "outputs": []
    },
    {
      "cell_type": "code",
      "source": [
        "fig = px.bar(x=d2, y=d2_, title=\"Top 10 most frequent trigrams in Fantasy DataFrame\")\n",
        "fig.show()\n",
        "\n",
        "fig = px.bar(x=d3, y=d3_, title=\"Top 10 most frequent trigrams in New Adult DataFrame\")\n",
        "fig.show()\n",
        "\n",
        "fig = px.bar(x=d4, y=d4_, title=\"Top 10 most frequent trigrams in Mystery DataFrame\")\n",
        "fig.show()\n",
        "\n",
        "fig = px.bar(x=d5, y=d5_, title=\"Top 10 most frequent trigrams in SciFi DataFrame\")\n",
        "fig.show()\n",
        "\n",
        "fig = px.bar(x=d6, y=d6_, title=\"Top 10 most frequent trigrams in Adventure DataFrame\")\n",
        "fig.show()\n",
        "fig = px.bar(x=d7, y=d7_, title=\"Top 10 most frequent words in Teen DataFrame\")\n",
        "fig.show()\n",
        "fig = px.bar(x=d8, y=d8_, title=\"Top 10 most frequent trigrams in Horror DataFrame\")\n",
        "fig.show()\n",
        "\n",
        "fig = px.bar(x=d9, y=d9_, title=\"Top 10 most frequent trigrams in Thriller DataFrame\")\n",
        "fig.show()\n",
        "\n",
        "fig = px.bar(x=d10, y=d10_, title=\"Top 10 most frequent trigrams in Literature DataFrame\")\n",
        "fig.show()\n",
        "\n",
        "fig = px.bar(x=d11, y=d11_, title=\"Top 10 most frequent trigrams in Humor DataFrame\")\n",
        "fig.show()\n",
        "\n",
        "fig = px.bar(x=d12, y=d12_, title=\"Top 10 most frequent trigrams in Other DataFrame\")\n",
        "fig.show()\n",
        "\n",
        "fig = px.bar(x=d13, y=d13_, title=\"Top 10 most frequent trigrams in Historical DataFrame\")\n",
        "fig.show()\n",
        "\n",
        "fig = px.bar(x=d14, y=d14_, title=\"Top 10 most frequent trigrams in Vampire DataFrame\")\n",
        "fig.shtrigrams\n",
        "\n",
        "fig = px.bar(x=d15, y=d15_,title=\"Top 10 most frequent trigrams in Young Adult DataFrame\")\n",
        "fig.show()\n",
        "\n",
        "fig = px.bar(x=d16, y=d16_, title=\"Top 10 most frequent trigrams in Theme DataFrame\")\n",
        "fig.show()\n"
      ],
      "metadata": {
        "id": "v52Lwzfa3wf8"
      },
      "execution_count": null,
      "outputs": []
    }
  ]
}